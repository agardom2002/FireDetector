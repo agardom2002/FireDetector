{
  "nbformat": 4,
  "nbformat_minor": 0,
  "metadata": {
    "colab": {
      "provenance": []
    },
    "kernelspec": {
      "name": "python3",
      "display_name": "Python 3"
    },
    "language_info": {
      "name": "python"
    }
  },
  "cells": [
    {
      "cell_type": "markdown",
      "source": [
        "Instalamos el paquete **RoboFlow** que es necesario para descargar el dataset."
      ],
      "metadata": {
        "id": "v9r5Gk6Xy4Wy"
      }
    },
    {
      "cell_type": "code",
      "source": [
        "!pip install roboflow"
      ],
      "metadata": {
        "colab": {
          "base_uri": "https://localhost:8080/",
          "height": 1000
        },
        "id": "EfO9N1Gee5kX",
        "outputId": "b22d965f-9d91-43d5-f2e4-17c94391a790"
      },
      "execution_count": null,
      "outputs": [
        {
          "output_type": "stream",
          "name": "stdout",
          "text": [
            "Collecting roboflow\n",
            "  Downloading roboflow-1.1.19-py3-none-any.whl (70 kB)\n",
            "\u001b[2K     \u001b[90m━━━━━━━━━━━━━━━━━━━━━━━━━━━━━━━━━━━━━━━━\u001b[0m \u001b[32m70.2/70.2 kB\u001b[0m \u001b[31m2.7 MB/s\u001b[0m eta \u001b[36m0:00:00\u001b[0m\n",
            "\u001b[?25hCollecting certifi==2023.7.22 (from roboflow)\n",
            "  Downloading certifi-2023.7.22-py3-none-any.whl (158 kB)\n",
            "\u001b[2K     \u001b[90m━━━━━━━━━━━━━━━━━━━━━━━━━━━━━━━━━━━━━━━━\u001b[0m \u001b[32m158.3/158.3 kB\u001b[0m \u001b[31m7.3 MB/s\u001b[0m eta \u001b[36m0:00:00\u001b[0m\n",
            "\u001b[?25hCollecting chardet==4.0.0 (from roboflow)\n",
            "  Downloading chardet-4.0.0-py2.py3-none-any.whl (178 kB)\n",
            "\u001b[2K     \u001b[90m━━━━━━━━━━━━━━━━━━━━━━━━━━━━━━━━━━━━━━━━\u001b[0m \u001b[32m178.7/178.7 kB\u001b[0m \u001b[31m9.8 MB/s\u001b[0m eta \u001b[36m0:00:00\u001b[0m\n",
            "\u001b[?25hCollecting cycler==0.10.0 (from roboflow)\n",
            "  Downloading cycler-0.10.0-py2.py3-none-any.whl (6.5 kB)\n",
            "Collecting idna==2.10 (from roboflow)\n",
            "  Downloading idna-2.10-py2.py3-none-any.whl (58 kB)\n",
            "\u001b[2K     \u001b[90m━━━━━━━━━━━━━━━━━━━━━━━━━━━━━━━━━━━━━━━━\u001b[0m \u001b[32m58.8/58.8 kB\u001b[0m \u001b[31m8.0 MB/s\u001b[0m eta \u001b[36m0:00:00\u001b[0m\n",
            "\u001b[?25hRequirement already satisfied: kiwisolver>=1.3.1 in /usr/local/lib/python3.10/dist-packages (from roboflow) (1.4.5)\n",
            "Requirement already satisfied: matplotlib in /usr/local/lib/python3.10/dist-packages (from roboflow) (3.7.1)\n",
            "Requirement already satisfied: numpy>=1.18.5 in /usr/local/lib/python3.10/dist-packages (from roboflow) (1.25.2)\n",
            "Collecting opencv-python-headless==4.8.0.74 (from roboflow)\n",
            "  Downloading opencv_python_headless-4.8.0.74-cp37-abi3-manylinux_2_17_x86_64.manylinux2014_x86_64.whl (49.1 MB)\n",
            "\u001b[2K     \u001b[90m━━━━━━━━━━━━━━━━━━━━━━━━━━━━━━━━━━━━━━━━\u001b[0m \u001b[32m49.1/49.1 MB\u001b[0m \u001b[31m15.1 MB/s\u001b[0m eta \u001b[36m0:00:00\u001b[0m\n",
            "\u001b[?25hRequirement already satisfied: Pillow>=7.1.2 in /usr/local/lib/python3.10/dist-packages (from roboflow) (9.4.0)\n",
            "Requirement already satisfied: python-dateutil in /usr/local/lib/python3.10/dist-packages (from roboflow) (2.8.2)\n",
            "Collecting python-dotenv (from roboflow)\n",
            "  Downloading python_dotenv-1.0.1-py3-none-any.whl (19 kB)\n",
            "Requirement already satisfied: requests in /usr/local/lib/python3.10/dist-packages (from roboflow) (2.31.0)\n",
            "Requirement already satisfied: six in /usr/local/lib/python3.10/dist-packages (from roboflow) (1.16.0)\n",
            "Collecting supervision (from roboflow)\n",
            "  Downloading supervision-0.18.0-py3-none-any.whl (86 kB)\n",
            "\u001b[2K     \u001b[90m━━━━━━━━━━━━━━━━━━━━━━━━━━━━━━━━━━━━━━━━\u001b[0m \u001b[32m86.7/86.7 kB\u001b[0m \u001b[31m8.4 MB/s\u001b[0m eta \u001b[36m0:00:00\u001b[0m\n",
            "\u001b[?25hRequirement already satisfied: urllib3>=1.26.6 in /usr/local/lib/python3.10/dist-packages (from roboflow) (2.0.7)\n",
            "Requirement already satisfied: tqdm>=4.41.0 in /usr/local/lib/python3.10/dist-packages (from roboflow) (4.66.2)\n",
            "Requirement already satisfied: PyYAML>=5.3.1 in /usr/local/lib/python3.10/dist-packages (from roboflow) (6.0.1)\n",
            "Collecting requests-toolbelt (from roboflow)\n",
            "  Downloading requests_toolbelt-1.0.0-py2.py3-none-any.whl (54 kB)\n",
            "\u001b[2K     \u001b[90m━━━━━━━━━━━━━━━━━━━━━━━━━━━━━━━━━━━━━━━━\u001b[0m \u001b[32m54.5/54.5 kB\u001b[0m \u001b[31m7.4 MB/s\u001b[0m eta \u001b[36m0:00:00\u001b[0m\n",
            "\u001b[?25hCollecting python-magic (from roboflow)\n",
            "  Downloading python_magic-0.4.27-py2.py3-none-any.whl (13 kB)\n",
            "Requirement already satisfied: contourpy>=1.0.1 in /usr/local/lib/python3.10/dist-packages (from matplotlib->roboflow) (1.2.0)\n",
            "Requirement already satisfied: fonttools>=4.22.0 in /usr/local/lib/python3.10/dist-packages (from matplotlib->roboflow) (4.49.0)\n",
            "Requirement already satisfied: packaging>=20.0 in /usr/local/lib/python3.10/dist-packages (from matplotlib->roboflow) (23.2)\n",
            "Requirement already satisfied: pyparsing>=2.3.1 in /usr/local/lib/python3.10/dist-packages (from matplotlib->roboflow) (3.1.1)\n",
            "Requirement already satisfied: charset-normalizer<4,>=2 in /usr/local/lib/python3.10/dist-packages (from requests->roboflow) (3.3.2)\n",
            "Requirement already satisfied: defusedxml<0.8.0,>=0.7.1 in /usr/local/lib/python3.10/dist-packages (from supervision->roboflow) (0.7.1)\n",
            "Requirement already satisfied: scipy<2.0.0,>=1.10.0 in /usr/local/lib/python3.10/dist-packages (from supervision->roboflow) (1.11.4)\n",
            "Installing collected packages: python-magic, python-dotenv, opencv-python-headless, idna, cycler, chardet, certifi, supervision, requests-toolbelt, roboflow\n",
            "  Attempting uninstall: opencv-python-headless\n",
            "    Found existing installation: opencv-python-headless 4.9.0.80\n",
            "    Uninstalling opencv-python-headless-4.9.0.80:\n",
            "      Successfully uninstalled opencv-python-headless-4.9.0.80\n",
            "  Attempting uninstall: idna\n",
            "    Found existing installation: idna 3.6\n",
            "    Uninstalling idna-3.6:\n",
            "      Successfully uninstalled idna-3.6\n",
            "  Attempting uninstall: cycler\n",
            "    Found existing installation: cycler 0.12.1\n",
            "    Uninstalling cycler-0.12.1:\n",
            "      Successfully uninstalled cycler-0.12.1\n",
            "  Attempting uninstall: chardet\n",
            "    Found existing installation: chardet 5.2.0\n",
            "    Uninstalling chardet-5.2.0:\n",
            "      Successfully uninstalled chardet-5.2.0\n",
            "  Attempting uninstall: certifi\n",
            "    Found existing installation: certifi 2024.2.2\n",
            "    Uninstalling certifi-2024.2.2:\n",
            "      Successfully uninstalled certifi-2024.2.2\n",
            "Successfully installed certifi-2023.7.22 chardet-4.0.0 cycler-0.10.0 idna-2.10 opencv-python-headless-4.8.0.74 python-dotenv-1.0.1 python-magic-0.4.27 requests-toolbelt-1.0.0 roboflow-1.1.19 supervision-0.18.0\n"
          ]
        },
        {
          "output_type": "display_data",
          "data": {
            "application/vnd.colab-display-data+json": {
              "pip_warning": {
                "packages": [
                  "certifi",
                  "cycler"
                ]
              }
            }
          },
          "metadata": {}
        }
      ]
    },
    {
      "cell_type": "markdown",
      "source": [
        "Importamos las librerías necesarias para el tratamiento de los datos."
      ],
      "metadata": {
        "id": "BtlojGDdzC3F"
      }
    },
    {
      "cell_type": "code",
      "source": [
        "import os\n",
        "import shutil\n",
        "\n",
        "from roboflow import Roboflow"
      ],
      "metadata": {
        "id": "Tj_ofyOIfSLV"
      },
      "execution_count": null,
      "outputs": []
    },
    {
      "cell_type": "markdown",
      "source": [
        "Utilizando una API de RoboFlow descargamos el dataset necesario."
      ],
      "metadata": {
        "id": "_PghaP0ZzJ2t"
      }
    },
    {
      "cell_type": "code",
      "source": [
        "rf = Roboflow(api_key=\"MAiCeSuy58yjlg2ma4QK\")\n",
        "project = rf.workspace(\"-jwzpw\").project(\"continuous_fire\")\n",
        "dataset = project.version(6).download(\"yolov8\")"
      ],
      "metadata": {
        "colab": {
          "base_uri": "https://localhost:8080/"
        },
        "id": "0A_VGR2UfT31",
        "outputId": "63502233-2045-47e5-ba03-4ddf5d0a92b1"
      },
      "execution_count": null,
      "outputs": [
        {
          "output_type": "stream",
          "name": "stdout",
          "text": [
            "loading Roboflow workspace...\n",
            "loading Roboflow project...\n",
            "[WARNING] we noticed you are downloading a `yolov8` datasets but you don't have `ultralytics` installed. Roboflow `.deploy` supports only models trained with `ultralytics==8.0.196`, to intall it `pip install ultralytics==8.0.196`.\n"
          ]
        },
        {
          "output_type": "stream",
          "name": "stderr",
          "text": [
            "Downloading Dataset Version Zip in continuous_fire-6 to yolov8:: 100%|██████████| 25261/25261 [00:00<00:00, 32309.05it/s]"
          ]
        },
        {
          "output_type": "stream",
          "name": "stdout",
          "text": [
            "\n"
          ]
        },
        {
          "output_type": "stream",
          "name": "stderr",
          "text": [
            "\n",
            "Extracting Dataset Version Zip to continuous_fire-6 in yolov8:: 100%|██████████| 5030/5030 [00:01<00:00, 3090.23it/s]\n"
          ]
        }
      ]
    },
    {
      "cell_type": "markdown",
      "source": [
        "Comprobamos cómo están estructurados los archivos.\n",
        "\n",
        "En este dataset estructurado en árboles de carpetas encontramos tres ramas importantes; **train**, **test** y **valid**. En cada una de estas carpetas hay una carpeta que guarda las imágenes y otra que contiene los archivos *.txt* para indicar la segmentación de la imagen.\n",
        "\n",
        "Si nos fijamos en la carpeta **train**, nos damos cuenta las imagenes tienen la misma estructura: **[nombre]_png.rf.[identificador].jpg**. Además, este identificador lo contiene el mismos archivo *.txt* asociado a esta imagen en su respectiva carpeta.\n",
        "\n",
        "Esta información la usaremos para comprobar que cada imagen tenga un label asociado, así como que cada carpeta contenga archivos de extensión correcta (.txt para los labels y .png o .jpg para las imágenes). Si no ocurre esto, se guardará este archivo o carpeta en una nueva carpeta creada para decidir qué hacer con ella."
      ],
      "metadata": {
        "id": "5sI9n_pu2cHk"
      }
    },
    {
      "cell_type": "code",
      "source": [
        "# Mostramos el primer archivo de la carpeta de imágenes en train para ver su formato\n",
        "\n",
        "print(os.listdir(\"/content/continuous_fire-6/train/images\")[0])"
      ],
      "metadata": {
        "colab": {
          "base_uri": "https://localhost:8080/"
        },
        "id": "U2xKWx_x2BYB",
        "outputId": "879701bb-235c-4085-9f8b-5389d187c98f"
      },
      "execution_count": null,
      "outputs": [
        {
          "output_type": "stream",
          "name": "stdout",
          "text": [
            "CarTwo554_png.rf.97e1f83a0b29637f156ca40879f9b6d8.jpg\n",
            "FireDataThree12072_png.rf.c498b77faacc56a4551dd21df025c1f0.txt\n"
          ]
        }
      ]
    },
    {
      "cell_type": "markdown",
      "source": [
        "Creamos el código necesario para verificar que cada imagen tiene al menos un archivo *.txt* que indicará que tiene una segmentación de imagen indicando que tiene el target (el fuego) aplicado."
      ],
      "metadata": {
        "id": "37iJ0J9SzR5P"
      }
    },
    {
      "cell_type": "code",
      "source": [
        "# Creamos un array con los nombres de las carpetas a recorrer\n",
        "carpetas = [\"test\", \"train\", \"valid\"]\n",
        "\n",
        "# Inicializamos dos contadores, uno para los archivos correctos y otros para\n",
        "cont = {\"test\": 0, \"train\": 0, \"valid\": 0,}\n",
        "\n",
        "for nombre in carpetas:\n",
        "\n",
        "    # Ruta de las carpetas\n",
        "    carpeta_images = f\"/content/continuous_fire-6/{nombre}/images\"\n",
        "    carpeta_labels = f\"/content/continuous_fire-6/{nombre}/labels\"\n",
        "\n",
        "    # Obtenemos la lista de archivos en ambas carpetas\n",
        "    archivos_images = os.listdir(carpeta_images)\n",
        "    archivos_labels = os.listdir(carpeta_labels)\n",
        "\n",
        "    # Inicializamos una lista para guardar los identificadores de los labels\n",
        "    identificadores_labels = set()\n",
        "\n",
        "    for archivo_label in archivos_labels:\n",
        "\n",
        "        # Si el archivo termina en .txt obtenemos su identificador\n",
        "        if archivo_label.endswith(\".txt\"):\n",
        "            identificador = archivo_label.split(\".\")[-2]\n",
        "            identificadores_labels.add(identificador)\n",
        "\n",
        "        # De lo contrario, guardamos la ruta del archivo y lo almacenamos en otra carpeta\n",
        "        else:\n",
        "            # Con os.path.join() creamos la ruta del archivo\n",
        "            ruta_label = os.path.join(carpeta_labels, archivo_label)\n",
        "\n",
        "            # Inicializamos la ruta de destino\n",
        "            ruta_destino = f\"/content/continuous_fire-6/No_Compatibles/{nombre}/\"\n",
        "\n",
        "            print(f\"El archivo {archivo_label}, en la carpeta {nombre} no es un archivo .txt.\\nSerá enviado a la carpeta {ruta_destino} \\n\")\n",
        "\n",
        "            # Mediante un try: , except: verificamos si existe la carpeta de destino y guardamos el archivo.\n",
        "            try:\n",
        "              os.mkdir(ruta_destino)\n",
        "              shutil.move(ruta_label, ruta_destino)\n",
        "\n",
        "            except:\n",
        "              shutil.move(ruta_label, ruta_destino)\n",
        "\n",
        "    # Comprobamos por cada imagen si tiene un label asociado\n",
        "    for archivo_image in archivos_images:\n",
        "\n",
        "        # Verificamos que el archivo sea .jpg o .png . Si es así guardamos su identificador\n",
        "        if archivo_image.endswith(\".jpg\") or archivo_image.endswith(\".png\"):\n",
        "            identificador = archivo_image.split(\".\")[-2]\n",
        "        else:\n",
        "            ruta_imagen = os.path.join(carpeta_images, archivo_image)\n",
        "            ruta_destino = f\"/content/continuous_fire-6/No_Compatibles/{nombre}/\"\n",
        "\n",
        "            print(f\"El archivo {archivo_image}, en la carpeta {nombre} no es un archivo .jpg o .png.\\nSerá enviado a la carpeta {ruta_destino} \\n\")\n",
        "\n",
        "            try:\n",
        "              os.mkdir(ruta_destino)\n",
        "              shutil.move(ruta_imagen, ruta_destino)\n",
        "\n",
        "            except:\n",
        "              shutil.move(ruta_imagen, ruta_destino)\n",
        "\n",
        "        # Verificar si existe un archivo con el mismo identificador en la carpeta \"labels\"\n",
        "        if identificador in identificadores_labels:\n",
        "            cont[nombre] += 1\n",
        "        else:\n",
        "            print(f\"La imagen con identificador {identificador} no tiene un archivo en la carpeta 'labels' en {nombre}. Eliminando la imagen... \\n\")\n",
        "            ruta_imagen = os.path.join(carpeta_images, archivo_image)\n",
        "            os.remove(ruta_imagen)\n",
        "\n",
        "for nombre in carpetas:\n",
        "  print(f\"Número de imágenes en la carpeta {nombre:5} con label asociado: {cont[nombre]}\")"
      ],
      "metadata": {
        "colab": {
          "base_uri": "https://localhost:8080/"
        },
        "id": "3UW6eboEkwN2",
        "outputId": "943a2693-eb8d-4c34-9f21-9ee92e75d971"
      },
      "execution_count": null,
      "outputs": [
        {
          "output_type": "stream",
          "name": "stdout",
          "text": [
            "Número de imágenes en la carpeta test  con label asociado: 748\n",
            "Número de imágenes en la carpeta train con label asociado: 1000\n",
            "Número de imágenes en la carpeta valid con label asociado: 754\n"
          ]
        }
      ]
    }
  ]
}